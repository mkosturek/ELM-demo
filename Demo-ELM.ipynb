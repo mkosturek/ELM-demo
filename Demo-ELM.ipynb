{
 "cells": [
  {
   "cell_type": "code",
   "execution_count": 1,
   "metadata": {},
   "outputs": [],
   "source": [
    "import numpy as np\n",
    "from sklearn.datasets import fetch_mldata\n",
    "from matplotlib import pyplot as plt\n",
    "from skimage.measure import compare_ssim\n",
    "from sklearn.neural_network import MLPClassifier"
   ]
  },
  {
   "cell_type": "code",
   "execution_count": 2,
   "metadata": {},
   "outputs": [
    {
     "name": "stdout",
     "output_type": "stream",
     "text": [
      "Rozmiary\n",
      " - zb. treningowego:  49000, \n",
      " - zb. testowego:     21000\n"
     ]
    },
    {
     "data": {
      "text/plain": [
       "<matplotlib.image.AxesImage at 0x18821f678d0>"
      ]
     },
     "execution_count": 2,
     "metadata": {},
     "output_type": "execute_result"
    },
    {
     "data": {
      "image/png": "[encoded data removed]",
      "text/plain": [
       "<matplotlib.figure.Figure at 0x1881da7ec18>"
      ]
     },
     "metadata": {},
     "output_type": "display_data"
    }
   ],
   "source": [
    "data = fetch_mldata('MNIST original', data_home='./data_mnist')\n",
    "\n",
    "x, y = data['data'], data['target']\n",
    "\n",
    "shuff = np.random.permutation(len(x))\n",
    "x, y = x[shuff]/255., y[shuff]\n",
    "\n",
    "split = int(0.7*len(x))\n",
    "\n",
    "train_x = x[:split,:]\n",
    "train_y = y[:split].reshape(-1,1)\n",
    "\n",
    "test_x = x[split:, :]\n",
    "test_y = y[split:].reshape(-1,1)\n",
    "print (f'Rozmiary\\n - zb. treningowego: {len(train_x): 4}, \\n - zb. testowego:{len(test_x): 10}')\n",
    "plt.imshow(test_x[0].reshape(28,28), cmap='gray')"
   ]
  },
  {
   "cell_type": "code",
   "execution_count": 6,
   "metadata": {},
   "outputs": [],
   "source": [
    "class ELM:\n",
    "\n",
    "    def __init__(self, d_in, d_h, d_out, activation=np.tanh):\n",
    "        self.d_in = d_in\n",
    "        self.d_h = d_h\n",
    "        self.d_out = d_out\n",
    "\n",
    "        self.activation = activation\n",
    "\n",
    "        self.W_in = np.empty((d_in, d_h))\n",
    "        self.bias = np.empty((1, d_h))\n",
    "        self.W_out = np.empty((d_h, d_out))\n",
    "\n",
    "    def train(self, x, y, C=0, W=None, bias = True):\n",
    "        if y.shape[1] != self.d_out:\n",
    "            y = self.to_categorical(y, self.d_out)\n",
    "        if W is None:\n",
    "            W = np.ones((len(y), 1))\n",
    "\n",
    "        self.W_in = np.random.normal(0, 0.1,\n",
    "                                     size=(self.d_in, self.d_h))\n",
    "        if bias:\n",
    "            self.bias = np.random.normal(0, 0.1,\n",
    "                                         size=(1, self.d_h))\n",
    "        else:\n",
    "            self.bias = 0\n",
    "        H = self.activation(x.dot(self.W_in) + self.bias)\n",
    "\n",
    "        regul = C * np.identity(self.d_h)\n",
    "        HT = H.T\n",
    "        self.W_out = (np.linalg.inv(regul + HT.dot(W * H))\n",
    "                      .dot(HT).dot(W * y))\n",
    "\n",
    "    def transform(self, x):\n",
    "        H = self.activation(x.dot(self.W_in) + self.bias)\n",
    "        return H.dot(self.W_out)\n",
    "\n",
    "    def predict(self, x):\n",
    "        return self.transform(x).argmax(axis=1).reshape(-1,1)\n",
    "\n",
    "    @staticmethod\n",
    "    def to_categorical(y, num_classes):\n",
    "        y_onehot = np.zeros((len(y), num_classes))\n",
    "        for i in range(len(y)):\n",
    "            y_onehot[i, int(y[i])] = 1.\n",
    "        return y_onehot\n"
   ]
  },
  {
   "cell_type": "markdown",
   "metadata": {},
   "source": [
    "# Porównanie - propagacja wsteczna"
   ]
  },
  {
   "cell_type": "code",
   "execution_count": 3,
   "metadata": {},
   "outputs": [],
   "source": [
    "mlp = MLPClassifier(hidden_layer_sizes=[700], \n",
    "                    activation='tanh', \n",
    "                    alpha=0.001, verbose=True, solver='sgd',\n",
    "                    max_iter=5)"
   ]
  },
  {
   "cell_type": "code",
   "execution_count": 7,
   "metadata": {},
   "outputs": [
    {
     "name": "stdout",
     "output_type": "stream",
     "text": [
      "Iteration 1, loss = 2.25727402\n",
      "Iteration 2, loss = 1.34862275\n",
      "Iteration 3, loss = 1.13069167\n",
      "Iteration 4, loss = 1.01572695\n",
      "Iteration 5, loss = 0.94221529\n",
      "Wall time: 1min 16s\n"
     ]
    },
    {
     "name": "stderr",
     "output_type": "stream",
     "text": [
      "C:\\Users\\mkosturek\\Anaconda3\\lib\\site-packages\\sklearn\\neural_network\\multilayer_perceptron.py:564: ConvergenceWarning: Stochastic Optimizer: Maximum iterations (5) reached and the optimization hasn't converged yet.\n",
      "  % self.max_iter, ConvergenceWarning)\n"
     ]
    },
    {
     "data": {
      "text/plain": [
       "MLPClassifier(activation='tanh', alpha=0.001, batch_size='auto', beta_1=0.9,\n",
       "       beta_2=0.999, early_stopping=False, epsilon=1e-08,\n",
       "       hidden_layer_sizes=[700], learning_rate='constant',\n",
       "       learning_rate_init=0.001, max_iter=5, momentum=0.9,\n",
       "       nesterovs_momentum=True, power_t=0.5, random_state=None,\n",
       "       shuffle=True, solver='sgd', tol=0.0001, validation_fraction=0.1,\n",
       "       verbose=True, warm_start=False)"
      ]
     },
     "execution_count": 7,
     "metadata": {},
     "output_type": "execute_result"
    }
   ],
   "source": [
    "%%time\n",
    "mlp.fit(train_x, ELM.to_categorical(train_y,10))"
   ]
  },
  {
   "cell_type": "code",
   "execution_count": 8,
   "metadata": {},
   "outputs": [
    {
     "data": {
      "text/plain": [
       "0.7792857142857142"
      ]
     },
     "execution_count": 8,
     "metadata": {},
     "output_type": "execute_result"
    }
   ],
   "source": [
    "(mlp.predict(test_x).argmax(axis=1).reshape(-1,1)==test_y).mean()"
   ]
  },
  {
   "cell_type": "markdown",
   "metadata": {},
   "source": [
    "# Klasyfikacja"
   ]
  },
  {
   "cell_type": "code",
   "execution_count": 9,
   "metadata": {},
   "outputs": [
    {
     "name": "stdout",
     "output_type": "stream",
     "text": [
      "Wall time: 5.14 s\n"
     ]
    }
   ],
   "source": [
    "%%time\n",
    "elm = ELM(784, 700, 10)\n",
    "elm.train(train_x, train_y, C=2.3)"
   ]
  },
  {
   "cell_type": "code",
   "execution_count": 10,
   "metadata": {},
   "outputs": [
    {
     "data": {
      "text/plain": [
       "0.9210952380952381"
      ]
     },
     "execution_count": 10,
     "metadata": {},
     "output_type": "execute_result"
    }
   ],
   "source": [
    "(elm.predict(test_x) == test_y).mean()"
   ]
  },
  {
   "cell_type": "markdown",
   "metadata": {},
   "source": [
    "# Autokoder"
   ]
  },
  {
   "cell_type": "code",
   "execution_count": 11,
   "metadata": {},
   "outputs": [
    {
     "name": "stdout",
     "output_type": "stream",
     "text": [
      "Wall time: 3.35 s\n"
     ]
    }
   ],
   "source": [
    "%%time\n",
    "elm = ELM(784, 400, 784)\n",
    "elm.train(train_x, train_x, C=0.3)"
   ]
  },
  {
   "cell_type": "code",
   "execution_count": 13,
   "metadata": {},
   "outputs": [],
   "source": [
    "res_train = elm.transform(train_x)\n",
    "res_test = elm.transform(test_x)"
   ]
  },
  {
   "cell_type": "markdown",
   "metadata": {},
   "source": [
    "## Ewaluacja"
   ]
  },
  {
   "cell_type": "code",
   "execution_count": 14,
   "metadata": {},
   "outputs": [],
   "source": [
    "def ssim(image1, image2):\n",
    "    return compare_ssim(image1.reshape(28,28), image2.reshape(28,28))\n",
    "\n",
    "def mean_ssim(images1, images2):\n",
    "    ssims = []\n",
    "    for im1, im2 in zip(images1, images2):\n",
    "        ssims.append(ssim(im1, im2))\n",
    "    return np.mean(ssims)"
   ]
  },
  {
   "cell_type": "code",
   "execution_count": 15,
   "metadata": {
    "scrolled": true
   },
   "outputs": [
    {
     "name": "stdout",
     "output_type": "stream",
     "text": [
      "similarity: 0.13029500394819618\n"
     ]
    },
    {
     "data": {
      "image/png": "[encoded data removed]",
      "text/plain": [
       "<matplotlib.figure.Figure at 0x188221e6ac8>"
      ]
     },
     "metadata": {},
     "output_type": "display_data"
    }
   ],
   "source": [
    "f, a = plt.subplots(ncols=2)\n",
    "i1, i2 = 1, 2\n",
    "a[0].imshow(res_test[i1].reshape(28,28), cmap='gray')\n",
    "a[1].imshow(train_x[i2].reshape(28,28), cmap='gray')\n",
    "print(f'similarity: {ssim(res_test[i1].reshape(28,28), train_x[i2].reshape(28,28))}')"
   ]
  },
  {
   "cell_type": "code",
   "execution_count": 16,
   "metadata": {},
   "outputs": [
    {
     "name": "stdout",
     "output_type": "stream",
     "text": [
      "Train Avg similarity: 0.843510571485311\n"
     ]
    }
   ],
   "source": [
    "print(f'Train Avg similarity: {mean_ssim(res_train, train_x)}')"
   ]
  },
  {
   "cell_type": "code",
   "execution_count": 17,
   "metadata": {},
   "outputs": [
    {
     "name": "stdout",
     "output_type": "stream",
     "text": [
      "Test Avg similarity: 0.8416767273744507\n"
     ]
    }
   ],
   "source": [
    "print(f'Test Avg similarity: {mean_ssim(res_test, test_x)}')"
   ]
  },
  {
   "cell_type": "code",
   "execution_count": 18,
   "metadata": {},
   "outputs": [
    {
     "data": {
      "text/plain": [
       "<matplotlib.image.AxesImage at 0x1882264ad30>"
      ]
     },
     "execution_count": 18,
     "metadata": {},
     "output_type": "execute_result"
    },
    {
     "data": {
      "image/png": "[encoded data removed]",
      "text/plain": [
       "<matplotlib.figure.Figure at 0x188225cf6a0>"
      ]
     },
     "metadata": {},
     "output_type": "display_data"
    }
   ],
   "source": [
    "f, a = plt.subplots(ncols=2)\n",
    "i = 120\n",
    "a[0].imshow(test_x[i].reshape(28,28), cmap='gray')\n",
    "a[1].imshow(res_test[i].reshape(28,28), cmap='gray')"
   ]
  },
  {
   "cell_type": "markdown",
   "metadata": {},
   "source": [
    "# Z użyciem HP-ELM\n",
    "http://hpelm.readthedocs.io/en/latest/"
   ]
  },
  {
   "cell_type": "code",
   "execution_count": null,
   "metadata": {},
   "outputs": [],
   "source": [
    "import hpelm"
   ]
  },
  {
   "cell_type": "code",
   "execution_count": null,
   "metadata": {},
   "outputs": [],
   "source": [
    "elm = hpelm.ELM(784, 10)\n",
    "elm.add_neurons(3000, 'tanh')"
   ]
  },
  {
   "cell_type": "code",
   "execution_count": null,
   "metadata": {},
   "outputs": [],
   "source": [
    "%%time\n",
    "elm.train(train_x, ELM.to_categorical(train_y, 10))"
   ]
  },
  {
   "cell_type": "code",
   "execution_count": null,
   "metadata": {},
   "outputs": [],
   "source": [
    "(elm.predict(test_x).argmax(axis=1).reshape(-1,1) == test_y).mean()"
   ]
  },
  {
   "cell_type": "code",
   "execution_count": null,
   "metadata": {},
   "outputs": [],
   "source": [
    "helm = hpelm.HPELM(784, 10)\n",
    "helm.add_neurons(3000, 'tanh')"
   ]
  },
  {
   "cell_type": "code",
   "execution_count": null,
   "metadata": {},
   "outputs": [],
   "source": [
    "%%time\n",
    "helm.train(train_x, ELM.to_categorical(train_y, 10))"
   ]
  },
  {
   "cell_type": "code",
   "execution_count": null,
   "metadata": {},
   "outputs": [],
   "source": [
    "(helm.predict(test_x).argmax(axis=1).reshape(-1,1) == test_y).mean()"
   ]
  }
 ],
 "metadata": {
  "kernelspec": {
   "display_name": "Python 3",
   "language": "python",
   "name": "python3"
  },
  "language_info": {
   "codemirror_mode": {
    "name": "ipython",
    "version": 3
   },
   "file_extension": ".py",
   "mimetype": "text/x-python",
   "name": "python",
   "nbconvert_exporter": "python",
   "pygments_lexer": "ipython3",
   "version": "3.6.4"
  }
 },
 "nbformat": 4,
 "nbformat_minor": 2
}
